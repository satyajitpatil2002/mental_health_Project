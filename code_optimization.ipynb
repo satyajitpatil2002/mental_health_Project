{
  "cells": [
    {
      "cell_type": "markdown",
      "metadata": {
        "id": "view-in-github",
        "colab_type": "text"
      },
      "source": [
        "<a href=\"https://colab.research.google.com/github/satyajitpatil2002/mental_health_Project/blob/main/code_optimization.ipynb\" target=\"_parent\"><img src=\"https://colab.research.google.com/assets/colab-badge.svg\" alt=\"Open In Colab\"/></a>"
      ]
    },
    {
      "cell_type": "markdown",
      "source": [
        "HYPERPARAMETER TUNING\n"
      ],
      "metadata": {
        "id": "TR5-lRndKdzL"
      }
    },
    {
      "cell_type": "code",
      "source": [
        "# Import libraries\n",
        "import numpy as np\n",
        "import pandas as pd\n",
        "from sklearn.datasets import make_classification\n",
        "from sklearn.model_selection import train_test_split, cross_val_score, RepeatedStratifiedKFold\n",
        "from sklearn.linear_model import LogisticRegression\n",
        "from sklearn.neighbors import KNeighborsClassifier\n",
        "from sklearn.tree import DecisionTreeClassifier\n",
        "from sklearn.svm import SVC\n",
        "from sklearn.naive_bayes import GaussianNB\n",
        "from sklearn.neural_network import MLPClassifier\n",
        "from sklearn.ensemble import StackingClassifier\n",
        "from sklearn.metrics import accuracy_score, precision_score, recall_score, f1_score\n",
        "from sklearn.preprocessing import StandardScaler\n",
        "import matplotlib.pyplot as plt\n",
        "from pyswarm import pso\n",
        "\n",
        "# Read the dataset\n",
        "data = pd.read_csv(\"/content/labelleddata01.csv\")\n",
        "df = pd.DataFrame(data)\n",
        "\n",
        "# Function to get the dataset\n",
        "def get_dataset(df):\n",
        "    X, y = make_classification(n_samples=1000, n_features=66, n_informative=45, n_redundant=15, random_state=1)\n",
        "    return X, y\n",
        "\n",
        "# Function to get the stacking ensemble of models\n",
        "def get_stacking():\n",
        "    # Define the base models with specified parameters\n",
        "    base_models = {\n",
        "        'lr': LogisticRegression(max_iter=10000, C=1.0, solver='lbfgs'),\n",
        "        'knn': KNeighborsClassifier(n_neighbors=5),\n",
        "        'cart': DecisionTreeClassifier(max_depth=None, min_samples_split=2),\n",
        "        'svm': SVC(kernel='rbf', C=1.0, gamma='scale'),\n",
        "        'bayes': GaussianNB()\n",
        "    }\n",
        "    # Define the meta learner model\n",
        "    level1 = SVC(kernel='rbf', C=1.0, gamma='scale')\n",
        "    # Define the stacking ensemble\n",
        "    model = StackingClassifier(estimators=list(base_models.items()), final_estimator=level1, cv=5)\n",
        "    return model\n",
        "\n",
        "# Function to get a list of models to evaluate\n",
        "def get_models():\n",
        "    models = {\n",
        "        'lr': LogisticRegression(max_iter=10000, C=1.0, solver='lbfgs'),\n",
        "        'knn': KNeighborsClassifier(n_neighbors=5),\n",
        "        'cart': DecisionTreeClassifier(max_depth=None, min_samples_split=2),\n",
        "        'svm': SVC(kernel='rbf', C=1.0, gamma='scale'),\n",
        "        'bayes': GaussianNB(),\n",
        "        'stacking': get_stacking()\n",
        "    }\n",
        "    return models\n",
        "\n",
        "# Function to evaluate a given model using cross-validation\n",
        "def evaluate_model(model, X, y):\n",
        "    cv = RepeatedStratifiedKFold(n_splits=10, n_repeats=3, random_state=1)\n",
        "    scores = cross_val_score(model, X, y, scoring='accuracy', cv=cv, n_jobs=-1, error_score='raise')\n",
        "    return scores\n",
        "\n",
        "# Define dataset\n",
        "X, y = get_dataset(df)\n",
        "\n",
        "# Standardize the data\n",
        "scaler = StandardScaler()\n",
        "X_scaled = scaler.fit_transform(X)\n",
        "\n",
        "# Get the models to evaluate\n",
        "models = get_models()\n",
        "\n",
        "# Evaluate the models and store results\n",
        "results, names = [], []\n",
        "for name, model in models.items():\n",
        "    scores = evaluate_model(model, X_scaled, y)\n",
        "    results.append(scores)\n",
        "    names.append(name)\n",
        "    print('>%s %.3f (%.3f)' % (name, np.mean(scores), np.std(scores)))\n",
        "\n",
        "# Plot model performance for comparison\n",
        "plt.boxplot(results, labels=names, showmeans=True)\n",
        "plt.show()\n",
        "\n",
        "# Split the dataset into train and test sets\n",
        "X_train, X_test, y_train, y_test = train_test_split(X_scaled, y, test_size=0.3, random_state=42)\n",
        "\n",
        "# Select the best-performing model (in this case, let's assume it's the stacking classifier)\n",
        "best_model = get_models()['stacking']\n",
        "\n",
        "# Train the best model on the training set\n",
        "best_model.fit(X_train, y_train)\n",
        "\n",
        "# Make predictions on the test set\n",
        "y_pred = best_model.predict(X_test)\n",
        "\n",
        "# Calculate accuracy\n",
        "accuracy = accuracy_score(y_test, y_pred)\n",
        "print(\"Accuracy on the test set:\", accuracy*100)\n",
        "\n",
        "# Calculate precision\n",
        "precision = precision_score(y_test, y_pred)\n",
        "\n",
        "# Calculate recall\n",
        "recall = recall_score(y_test, y_pred)\n",
        "\n",
        "# Calculate F1 score\n",
        "f1 = f1_score(y_test, y_pred)\n",
        "\n",
        "print(\"Precision:\", precision)\n",
        "print(\"Recall:\", recall)\n",
        "print(\"F1 Score:\", f1)\n"
      ],
      "metadata": {
        "id": "gkNrPwhEoqLS",
        "colab": {
          "base_uri": "https://localhost:8080/",
          "height": 604
        },
        "outputId": "9dca4ebf-fb30-4d0e-e3fb-9089531c95a1"
      },
      "execution_count": null,
      "outputs": [
        {
          "output_type": "stream",
          "name": "stdout",
          "text": [
            ">lr 0.835 (0.036)\n",
            ">knn 0.948 (0.019)\n",
            ">cart 0.687 (0.043)\n",
            ">svm 0.941 (0.019)\n",
            ">bayes 0.824 (0.035)\n",
            ">stacking 0.973 (0.014)\n"
          ]
        },
        {
          "output_type": "display_data",
          "data": {
            "text/plain": [
              "<Figure size 640x480 with 1 Axes>"
            ],
            "image/png": "[encoded data removed]"
          },
          "metadata": {}
        },
        {
          "output_type": "stream",
          "name": "stdout",
          "text": [
            "Accuracy on the test set: 96.33333333333334\n",
            "Precision: 0.9683544303797469\n",
            "Recall: 0.9622641509433962\n",
            "F1 Score: 0.9652996845425867\n"
          ]
        }
      ]
    },
    {
      "cell_type": "code",
      "execution_count": null,
      "metadata": {
        "colab": {
          "base_uri": "https://localhost:8080/"
        },
        "id": "5xyZ884pXj0M",
        "outputId": "3aa8a7aa-ba2d-409b-c7cb-981133301d30"
      },
      "outputs": [
        {
          "output_type": "stream",
          "name": "stdout",
          "text": [
            "Collecting pyswarm\n",
            "  Downloading pyswarm-0.6.tar.gz (4.3 kB)\n",
            "  Preparing metadata (setup.py) ... \u001b[?25l\u001b[?25hdone\n",
            "Requirement already satisfied: numpy in /usr/local/lib/python3.10/dist-packages (from pyswarm) (1.25.2)\n",
            "Building wheels for collected packages: pyswarm\n",
            "  Building wheel for pyswarm (setup.py) ... \u001b[?25l\u001b[?25hdone\n",
            "  Created wheel for pyswarm: filename=pyswarm-0.6-py3-none-any.whl size=4464 sha256=3e7518d7bbfc4f39457e623a98e905c95b1ac4b419c0e19be81ab3f48951cf59\n",
            "  Stored in directory: /root/.cache/pip/wheels/71/67/40/62fa158f497f942277cbab8199b05cb61c571ab324e67ad0d6\n",
            "Successfully built pyswarm\n",
            "Installing collected packages: pyswarm\n",
            "Successfully installed pyswarm-0.6\n"
          ]
        }
      ],
      "source": [
        "!pip install pyswarm"
      ]
    },
    {
      "cell_type": "code",
      "source": [
        "\n",
        "# Import libraries\n",
        "import numpy as np\n",
        "import pandas as pd\n",
        "from sklearn.datasets import make_classification\n",
        "from sklearn.model_selection import train_test_split, cross_val_score, RepeatedStratifiedKFold\n",
        "from sklearn.linear_model import LogisticRegression\n",
        "from sklearn.neighbors import KNeighborsClassifier\n",
        "from sklearn.tree import DecisionTreeClassifier\n",
        "from sklearn.svm import SVC\n",
        "from sklearn.naive_bayes import GaussianNB\n",
        "from sklearn.ensemble import StackingClassifier\n",
        "from sklearn.metrics import accuracy_score\n",
        "from sklearn.preprocessing import StandardScaler\n",
        "from matplotlib import pyplot as plt\n",
        "from pyswarm import pso\n",
        "\n",
        "data = pd.read_csv(\"/content/labelleddata01.csv\")\n",
        "df = pd.DataFrame(data)\n",
        "\n",
        "\n",
        "# get the dataset\n",
        "def get_dataset(df):\n",
        "    X, y = make_classification(n_samples=1000, n_features=66, n_informative=45, n_redundant=15, random_state=1)\n",
        "    return X, y\n",
        "\n",
        "# get a stacking ensemble of models\n",
        "def get_stacking():\n",
        "    # define the base models\n",
        "    level0 = list()\n",
        "    level0.append(('lr', LogisticRegression()))\n",
        "    level0.append(('knn', KNeighborsClassifier()))\n",
        "    level0.append(('cart', DecisionTreeClassifier()))\n",
        "    level0.append(('svm', SVC()))\n",
        "    level0.append(('bayes', GaussianNB()))\n",
        "    # define meta learner model\n",
        "    level1 = SVC()\n",
        "    # define the stacking ensemble\n",
        "    model = StackingClassifier(estimators=level0, final_estimator=level1, cv=5)\n",
        "    return model\n",
        "\n",
        "# get a list of models to evaluate\n",
        "def get_models():\n",
        "    models = dict()\n",
        "    models['lr'] = LogisticRegression(max_iter=10000)\n",
        "    models['knn'] = KNeighborsClassifier()\n",
        "    models['cart'] = DecisionTreeClassifier()\n",
        "    models['svm'] = SVC()\n",
        "    models['bayes'] = GaussianNB()\n",
        "    models['stacking'] = get_stacking()\n",
        "    return models\n",
        "\n",
        "# evaluate a given model using cross-validation\n",
        "def evaluate_model(model, X, y):\n",
        "    cv = RepeatedStratifiedKFold(n_splits=10, n_repeats=3, random_state=1)\n",
        "    scores = cross_val_score(model, X, y, scoring='accuracy', cv=cv, n_jobs=-1, error_score='raise')\n",
        "    return scores\n",
        "\n",
        "# define dataset\n",
        "X, y = get_dataset(df)\n",
        "\n",
        "# Standardize the data\n",
        "scaler = StandardScaler()\n",
        "X_scaled = scaler.fit_transform(X)\n",
        "\n",
        "# get the models to evaluate\n",
        "models = get_models()\n",
        "\n",
        "# evaluate the models and store results\n",
        "results, names = list(), list()\n",
        "for name, model in models.items():\n",
        "    scores = evaluate_model(model, X, y)\n",
        "    results.append(scores)\n",
        "    names.append(name)\n",
        "    print('>%s %.3f (%.3f)' % (name, np.mean(scores), np.std(scores)))\n",
        "\n",
        "# plot model performance for comparison\n",
        "plt.boxplot(results, labels=names, showmeans=True)\n",
        "plt.show()\n",
        "\n",
        "# Split the dataset into train and test sets\n",
        "X_train, X_test, y_train, y_test = train_test_split(X_scaled, y, test_size=0.3, random_state=42)\n",
        "\n",
        "# Define the objective function for PSO\n",
        "def objective_function(params):\n",
        "    C, gamma = params\n",
        "    model = SVC(C=C, gamma=gamma)\n",
        "    return -np.mean(cross_val_score(model, X_train, y_train, cv=5, scoring='accuracy'))\n",
        "\n",
        "# Define the parameter bounds for PSO\n",
        "lb = [1e-6, 1e-6]\n",
        "ub = [1e+6, 1e+1]\n",
        "\n",
        "# Perform PSO for hyperparameter tuning\n",
        "best_params, stats= pso(objective_function, lb, ub)\n",
        "\n",
        "# Select the best-performing model (in this case, let's assume it's the stacking classifier)\n",
        "best_model = get_models()['stacking']\n",
        "best_model.final_estimator.set_params(C=best_params[0], gamma=best_params[1])\n",
        "\n",
        "# Train the best model on the training set\n",
        "best_model.fit(X_train, y_train)\n",
        "\n",
        "# Make predictions on the test set\n",
        "y_pred = best_model.predict(X_test)\n",
        "\n",
        "# Calculate accuracy\n",
        "accuracy = accuracy_score(y_test, y_pred)\n",
        "print(\"Accuracy on the test set:\", accuracy*100)\n"
      ],
      "metadata": {
        "colab": {
          "base_uri": "https://localhost:8080/",
          "height": 569
        },
        "id": "Eg2I72STax_p",
        "outputId": "0d515fb7-2964-4621-9f11-2d74d4304325"
      },
      "execution_count": null,
      "outputs": [
        {
          "output_type": "stream",
          "name": "stdout",
          "text": [
            ">lr 0.835 (0.037)\n",
            ">knn 0.836 (0.039)\n",
            ">cart 0.693 (0.044)\n",
            ">svm 0.907 (0.027)\n",
            ">bayes 0.824 (0.035)\n",
            ">stacking 0.904 (0.026)\n"
          ]
        },
        {
          "output_type": "display_data",
          "data": {
            "text/plain": [
              "<Figure size 640x480 with 1 Axes>"
            ],
            "image/png": "[encoded data removed]"
          },
          "metadata": {}
        },
        {
          "output_type": "stream",
          "name": "stdout",
          "text": [
            "Stopping search: maximum iterations reached --> 100\n",
            "Accuracy on the test set: 96.0\n"
          ]
        }
      ]
    },
    {
      "cell_type": "code",
      "source": [
        "pso_result = best_params, stats\n",
        "# Check if 'gbest_curve' is a key in the stats dictionary\n",
        "# Check if the return value is a tuple with two elements\n",
        "if isinstance(pso_result, tuple) and len(pso_result) == 2:\n",
        "    best_params, stats = pso_result\n",
        "    # Check if 'gbest_curve' is a key in the stats dictionary\n",
        "    if isinstance(stats, dict) and 'gbest_curve' in stats:\n",
        "        # Plot the convergence curve\n",
        "        iterations = np.arange(len(stats['gbest_curve']))\n",
        "        plt.figure(figsize=(10, 6))\n",
        "        plt.plot(iterations, stats['gbest_curve'])\n",
        "        plt.xlabel('Iterations')\n",
        "        plt.ylabel('Best Fitness')\n",
        "        plt.title('Convergence Curve')\n",
        "        plt.show()\n",
        "    else:\n",
        "        print(\"The 'gbest_curve' key is not present in the stats dictionary, or stats is not a dictionary.\")\n",
        "else:\n",
        "    print(\"The pso function did not return the expected output (a tuple with two elements).\")"
      ],
      "metadata": {
        "colab": {
          "base_uri": "https://localhost:8080/"
        },
        "id": "UEYZfUOMK3TS",
        "outputId": "0d1e126b-dfed-42cb-9d29-68e78729c14b"
      },
      "execution_count": null,
      "outputs": [
        {
          "output_type": "stream",
          "name": "stdout",
          "text": [
            "The 'gbest_curve' key is not present in the stats dictionary, or stats is not a dictionary.\n"
          ]
        }
      ]
    },
    {
      "cell_type": "code",
      "source": [
        "print(\"Best Parameters found by PSO:\")\n",
        "print(best_params)\n"
      ],
      "metadata": {
        "id": "KbJgL6s2cqyj",
        "colab": {
          "base_uri": "https://localhost:8080/"
        },
        "outputId": "33e755eb-0d08-4c7a-8188-a0aedd1ac95c"
      },
      "execution_count": null,
      "outputs": [
        {
          "output_type": "stream",
          "name": "stdout",
          "text": [
            "Best Parameters found by PSO:\n",
            "[7.77535460e+05 1.96883453e-02]\n"
          ]
        }
      ]
    },
    {
      "cell_type": "code",
      "execution_count": null,
      "metadata": {
        "id": "nZFr_hD1Qva1",
        "colab": {
          "base_uri": "https://localhost:8080/",
          "height": 564
        },
        "outputId": "64d6e4d3-80ce-452b-8301-4ac9f2d42b92"
      },
      "outputs": [
        {
          "output_type": "display_data",
          "data": {
            "text/plain": [
              "<Figure size 800x600 with 1 Axes>"
            ],
            "image/png": "[encoded data removed]"
          },
          "metadata": {}
        }
      ],
      "source": [
        "from sklearn.metrics import confusion_matrix\n",
        "import seaborn as sns\n",
        "\n",
        "# Compute confusion matrix\n",
        "conf_matrix = confusion_matrix(y_test, y_pred)\n",
        "\n",
        "# Plot confusion matrix\n",
        "plt.figure(figsize=(8, 6))\n",
        "sns.heatmap(conf_matrix, annot=True, fmt=\"d\", cmap=\"Blues\", cbar=False)\n",
        "plt.xlabel('Predicted labels')\n",
        "plt.ylabel('True labels')\n",
        "plt.title('Confusion Matrix')\n",
        "plt.show()\n"
      ]
    },
    {
      "cell_type": "code",
      "execution_count": null,
      "metadata": {
        "id": "9hY9yBKdiP1b",
        "colab": {
          "base_uri": "https://localhost:8080/"
        },
        "outputId": "81d25655-9a38-4ea1-8d47-e46b838d4358"
      },
      "outputs": [
        {
          "output_type": "stream",
          "name": "stdout",
          "text": [
            "Precision: 0.9620253164556962\n",
            "Recall: 0.9559748427672956\n",
            "F1 Score: 0.9589905362776026\n"
          ]
        }
      ],
      "source": [
        "from sklearn.metrics import precision_score, recall_score, f1_score\n",
        "\n",
        "# Assuming y_true contains the true labels and y_pred contains the predicted labels\n",
        "# Calculate precision\n",
        "precision = precision_score(y_test, y_pred)\n",
        "\n",
        "# Calculate recall\n",
        "recall = recall_score(y_test, y_pred)\n",
        "\n",
        "# Calculate F1 score\n",
        "f1 = f1_score(y_test, y_pred)\n",
        "\n",
        "print(\"Precision:\", precision)\n",
        "print(\"Recall:\", recall)\n",
        "print(\"F1 Score:\", f1)\n"
      ]
    },
    {
      "cell_type": "code",
      "source": [],
      "metadata": {
        "id": "OlWrRGabCbOd"
      },
      "execution_count": null,
      "outputs": []
    }
  ],
  "metadata": {
    "colab": {
      "provenance": [],
      "include_colab_link": true
    },
    "kernelspec": {
      "display_name": "Python 3",
      "name": "python3"
    },
    "language_info": {
      "name": "python"
    }
  },
  "nbformat": 4,
  "nbformat_minor": 0
}